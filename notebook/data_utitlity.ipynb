{
 "cells": [
  {
   "cell_type": "markdown",
   "metadata": {},
   "source": [
    "# Data Utility notebook\n",
    "\n",
    "### Kernel creation \n",
    "\n",
    "After creating env (**synap**) using **requirements.txt** file, use below command to create kernel for notebooks.\n",
    "> python -m ipykernel install --user --name synap --display-name \"synap\"\n",
    "\n",
    "\n",
    "### This notebook handles   \n",
    "1. [Binary Label creation](#Convert-labels-to-binary-data )\n",
    "2. [Data spliting](#Data-spliting )\n"
   ]
  },
  {
   "cell_type": "code",
   "execution_count": 9,
   "metadata": {},
   "outputs": [],
   "source": [
    "import shutil\n",
    "import os\n",
    "import cv2\n",
    "import glob\n",
    "import matplotlib.pyplot as plt\n",
    "import numpy as np\n",
    "from tqdm.auto import tqdm"
   ]
  },
  {
   "cell_type": "markdown",
   "metadata": {},
   "source": [
    "## Convert labels to binary data \n",
    "**0** : Background   \n",
    "**1** : Coord Segmentation mask (naming spinal coord as \"Coord\")  "
   ]
  },
  {
   "cell_type": "code",
   "execution_count": 10,
   "metadata": {},
   "outputs": [],
   "source": [
    "labels_dir = \"../data/SegmentationClass_exp2\" #input label directory\n",
    "output_folder = \"../data/transformed_labels\" #output label directory\n",
    "os.makedirs(output_folder,exist_ok = True)"
   ]
  },
  {
   "cell_type": "code",
   "execution_count": 11,
   "metadata": {},
   "outputs": [
    {
     "name": "stdout",
     "output_type": "stream",
     "text": [
      "Total label paths :11\n"
     ]
    }
   ],
   "source": [
    "image_paths = glob.glob(os.path.join(labels_dir,\"*.png\"))\n",
    "np.random.shuffle(image_paths)\n",
    "total_paths = len(image_paths)\n",
    "print(f\"Total label paths :{total_paths}\")"
   ]
  },
  {
   "cell_type": "code",
   "execution_count": 12,
   "metadata": {},
   "outputs": [
    {
     "data": {
      "application/vnd.jupyter.widget-view+json": {
       "model_id": "5563e5b956d14983b8ce1cc158af6a31",
       "version_major": 2,
       "version_minor": 0
      },
      "text/plain": [
       "  0%|          | 0/11 [00:00<?, ?it/s]"
      ]
     },
     "metadata": {},
     "output_type": "display_data"
    }
   ],
   "source": [
    "#convert all the labels\n",
    "for path in tqdm(image_paths):\n",
    "    label = cv2.imread(path,0)\n",
    "    label[label>0]=1\n",
    "    cv2.imwrite(os.path.join(output_folder,os.path.basename(path)),label)"
   ]
  },
  {
   "cell_type": "markdown",
   "metadata": {},
   "source": [
    "## Data spliting  \n",
    "\n",
    "\n",
    "Below cells splits data into **train, validation and test** folders"
   ]
  },
  {
   "cell_type": "code",
   "execution_count": 13,
   "metadata": {},
   "outputs": [],
   "source": [
    "## Configs\n",
    "\n",
    "train_r,val_r,test_r = 0.7,0.2,0.1"
   ]
  },
  {
   "cell_type": "code",
   "execution_count": 14,
   "metadata": {},
   "outputs": [],
   "source": [
    "image_dir = \"../data/original_images\"\n",
    "labels_dir = \"../data/transformed_labels\"\n",
    "\n",
    "data_dir = \"../data/training_data/\"\n",
    "\n",
    "x_train_dir = os.path.join(data_dir, 'train')\n",
    "y_train_dir = os.path.join(data_dir, 'trainannot')\n",
    "\n",
    "x_valid_dir = os.path.join(data_dir, 'val')\n",
    "y_valid_dir = os.path.join(data_dir, 'valannot')\n",
    "\n",
    "x_test_dir = os.path.join(data_dir, 'test')\n",
    "y_test_dir = os.path.join(data_dir, 'testannot')\n",
    "\n",
    "os.makedirs(x_train_dir,exist_ok = True)\n",
    "os.makedirs(y_train_dir,exist_ok = True)\n",
    "os.makedirs(x_valid_dir,exist_ok = True)\n",
    "os.makedirs(y_valid_dir,exist_ok = True)\n",
    "os.makedirs(x_test_dir,exist_ok = True)\n",
    "os.makedirs(y_test_dir,exist_ok = True)"
   ]
  },
  {
   "cell_type": "code",
   "execution_count": 15,
   "metadata": {},
   "outputs": [
    {
     "name": "stdout",
     "output_type": "stream",
     "text": [
      "Total label paths :11\n"
     ]
    }
   ],
   "source": [
    "image_paths = glob.glob(os.path.join(image_dir,\"*.png\"))\n",
    "np.random.shuffle(image_paths)\n",
    "total_paths = len(image_paths)\n",
    "print(f\"Total label paths :{total_paths}\")"
   ]
  },
  {
   "cell_type": "code",
   "execution_count": 22,
   "metadata": {},
   "outputs": [
    {
     "data": {
      "application/vnd.jupyter.widget-view+json": {
       "model_id": "b43ec23d3229482b8e4762f23c3c43ab",
       "version_major": 2,
       "version_minor": 0
      },
      "text/plain": [
       "  0%|          | 0/7 [00:00<?, ?it/s]"
      ]
     },
     "metadata": {},
     "output_type": "display_data"
    }
   ],
   "source": [
    "## Train\n",
    "for path in tqdm(image_paths[:int(train_r*total_paths)]):\n",
    "    shutil.copy(path,os.path.join(x_train_dir,os.path.basename(path))) #copy img\n",
    "    \n",
    "    label_src_path = os.path.join(labels_dir,os.path.basename(path).split(\".\")[0]+\".png\")\n",
    "    shutil.copy(label_src_path,os.path.join(y_train_dir,os.path.basename(path).split(\".\")[0]+\".png\")) #copy label\n",
    "    "
   ]
  },
  {
   "cell_type": "code",
   "execution_count": 21,
   "metadata": {},
   "outputs": [
    {
     "data": {
      "application/vnd.jupyter.widget-view+json": {
       "model_id": "e461619fac534e3dbe5e94840863b0fa",
       "version_major": 2,
       "version_minor": 0
      },
      "text/plain": [
       "  0%|          | 0/2 [00:00<?, ?it/s]"
      ]
     },
     "metadata": {},
     "output_type": "display_data"
    }
   ],
   "source": [
    "## Validation\n",
    "for path in tqdm(image_paths[int(train_r*total_paths):int(train_r*total_paths)+int(val_r*total_paths)]):\n",
    "    shutil.copy(path,os.path.join(x_valid_dir,os.path.basename(path))) #copy img\n",
    "    \n",
    "    label_src_path = os.path.join(labels_dir,os.path.basename(path).split(\".\")[0]+\".png\")\n",
    "    shutil.copy(label_src_path,os.path.join(y_valid_dir,os.path.basename(path).split(\".\")[0]+\".png\")) #copy label\n",
    "    "
   ]
  },
  {
   "cell_type": "code",
   "execution_count": 19,
   "metadata": {},
   "outputs": [
    {
     "data": {
      "application/vnd.jupyter.widget-view+json": {
       "model_id": "4b2d85b81f9649c4977ffe58a5c4cd5c",
       "version_major": 2,
       "version_minor": 0
      },
      "text/plain": [
       "  0%|          | 0/2 [00:00<?, ?it/s]"
      ]
     },
     "metadata": {},
     "output_type": "display_data"
    }
   ],
   "source": [
    "## Test\n",
    "for path in tqdm(image_paths[int(train_r*total_paths)+int(val_r*total_paths):]):\n",
    "    shutil.copy(path,os.path.join(x_test_dir,os.path.basename(path))) #copy img\n",
    "    \n",
    "    label_src_path = os.path.join(labels_dir,os.path.basename(path).split(\".\")[0]+\".png\")\n",
    "    shutil.copy(label_src_path,os.path.join(y_test_dir,os.path.basename(path).split(\".\")[0]+\".png\")) #copy label\n",
    "    "
   ]
  }
 ],
 "metadata": {
  "kernelspec": {
   "display_name": "synap",
   "language": "python",
   "name": "synap"
  },
  "language_info": {
   "codemirror_mode": {
    "name": "ipython",
    "version": 3
   },
   "file_extension": ".py",
   "mimetype": "text/x-python",
   "name": "python",
   "nbconvert_exporter": "python",
   "pygments_lexer": "ipython3",
   "version": "3.7.6"
  }
 },
 "nbformat": 4,
 "nbformat_minor": 4
}
